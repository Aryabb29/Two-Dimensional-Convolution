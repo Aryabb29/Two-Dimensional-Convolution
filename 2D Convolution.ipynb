{
  "nbformat": 4,
  "nbformat_minor": 0,
  "metadata": {
    "colab": {
      "provenance": [],
      "collapsed_sections": []
    },
    "kernelspec": {
      "name": "python3",
      "display_name": "Python 3"
    },
    "language_info": {
      "name": "python"
    }
  },
  "cells": [
    {
      "cell_type": "markdown",
      "source": [
        "# **Problem 1) a)**"
      ],
      "metadata": {
        "id": "L-OwwUO0Fvo9"
      }
    },
    {
      "cell_type": "code",
      "execution_count": 66,
      "metadata": {
        "colab": {
          "base_uri": "https://localhost:8080/"
        },
        "id": "zL_PfE5JIG6V",
        "outputId": "67f7d79a-d175-4c72-b508-cef70f1f6fe1"
      },
      "outputs": [
        {
          "output_type": "stream",
          "name": "stdout",
          "text": [
            "Drive already mounted at /content/gdrive; to attempt to forcibly remount, call drive.mount(\"/content/gdrive\", force_remount=True).\n",
            "/content/gdrive/My Drive/DIS/Project2/Problem 1\n",
            "Box_filter_lena_grayscale.png\t     Prewitt_x_filter_wolves.png\n",
            "Box_filter_wolves.png\t\t     Prewitt_y_filter_lena_grayscale.png\n",
            "Convoluted_Impulse_Image.png\t     Prewitt_y_filter_wolves.png\n",
            "fo_c_filter_lena_grayscale.png\t     Roberts_x_filter_lena_grayscale.png\n",
            "fo_c_filter_wolves.png\t\t     Roberts_x_filter_wolves.png\n",
            "fo_r_filter_lena_grayscale.png\t     Roberts_y_filter_lena_grayscale.png\n",
            "fo_r_filter_wolves.png\t\t     Roberts_y_filter_wolves.png\n",
            "Gray_Impulse_Image.png\t\t     Sobel_x_filter_lena_grayscale.png\n",
            "lena_grayscale.png\t\t     Sobel_x_filter_wolves.png\n",
            "lena.png\t\t\t     Sobel_y_filter_lena_grayscale.png\n",
            "Padded_lena_grayscale.png\t     Sobel_y_filter_wolves.png\n",
            "Padded_wolves.png\t\t     wolves.png\n",
            "Prewitt_x_filter_lena_grayscale.png\n"
          ]
        }
      ],
      "source": [
        "# Mounting the Google Drive \n",
        "from google.colab import drive\n",
        "drive.mount('/content/gdrive')\n",
        "\n",
        "# Setting my input location to the Google Colab\n",
        "%cd /content/gdrive/My Drive/DIS/Project2/Problem 1\n",
        "\n",
        "# Displaying contents in the location\n",
        "!ls"
      ]
    },
    {
      "cell_type": "code",
      "source": [
        "# Importing the required libraries for the problem\n",
        "import cv2\n",
        "from google.colab.patches import cv2_imshow\n",
        "import numpy as np"
      ],
      "metadata": {
        "id": "osjObJx1IokL"
      },
      "execution_count": 67,
      "outputs": []
    },
    {
      "cell_type": "code",
      "source": [
        "# Defining the kernels that will be used for computation\n",
        "\n",
        "def kernel(i):\n",
        "# Box filter\n",
        "  if (i == 1):\n",
        "    b_mat = np.array([[1, 1, 1],[1,1,1],[1,1,1]],np.int32)\n",
        "    box_filter = (1/9)*b_mat\n",
        "    a = 'Box_filter_'\n",
        "    return box_filter,a\n",
        "\n",
        "# First order derivative filter\n",
        "  elif (i == 2):\n",
        "    fo_r_filter = np.array([-1, 1],np.int32)\n",
        "    a = 'fo_r_filter_'\n",
        "    return fo_r_filter,a\n",
        "  elif (i == 3):\n",
        "    fo_c_filter = np.array([[1],[-1]],np.int32)\n",
        "    a = 'fo_c_filter_'\n",
        "    return fo_c_filter,a\n",
        "\n",
        "# Prewitt filter\n",
        "  elif(i == 4):\n",
        "    pre_x = np.array([[-1, 0, 1],[-1, 0, 1],[-1, 0, 1]],np.int32)\n",
        "    a = 'Prewitt_x_filter_'\n",
        "    return pre_x,a\n",
        "  elif (i == 5):\n",
        "    pre_y = np.array([[1, 1, 1],[0, 0, 0],[-1, -1, -1]],np.int32)\n",
        "    a = 'Prewitt_y_filter_'\n",
        "    return pre_y,a\n",
        "\n",
        "# Sobel filter\n",
        "  elif (i == 6):\n",
        "    sob_x = np.array([[-1, 0, 1],[-2, 0, 2],[-1, 0, 1]],np.int32)\n",
        "    a = 'Sobel_x_filter_'\n",
        "    return sob_x,a\n",
        "  elif (i == 7):\n",
        "    sob_y = np.array([[1, 2, 1],[0, 0, 0],[-1, -2, -1]],np.int32)\n",
        "    a = 'Sobel_y_filter_'\n",
        "    return sob_y,a\n",
        "\n",
        "# Roberts filter\n",
        "  elif (i == 8):\n",
        "    rob_x = np.array([[0, 1],[-1, 0]],np.int32)\n",
        "    a = 'Roberts_x_filter_'\n",
        "    return rob_x,a\n",
        "  elif (i == 9):\n",
        "    rob_y = np.array([[1, 0],[0, -1]],np.int32)\n",
        "    a = 'Roberts_y_filter_'\n",
        "    return rob_y,a"
      ],
      "metadata": {
        "id": "WrLhMpy9QXKF"
      },
      "execution_count": 68,
      "outputs": []
    },
    {
      "cell_type": "code",
      "source": [
        "def padding(img,pad,x):  # img - original Image ; pad - type of pad ; x - length of pad on each edge of the image\n",
        "  r,c,ch = img.shape\n",
        "  pad_r = r+(2*x)\n",
        "  pad_c = c+(2*x)\n",
        "  padded_image = np.zeros((pad_r,pad_c,ch), dtype = np.int32)\n",
        "  padded_image[x:(pad_r-x),x:(pad_c-x),:] = img\n",
        "  if (pad == 1):\n",
        "    # Zero Padding\n",
        "    return padded_image\n",
        "  elif (pad==2):\n",
        "    # Wrap Around Padding\n",
        "    padded_image[0:x,:,:] = padded_image[pad_r-(2*x)-1:pad_r-x-1,:,:]\n",
        "    padded_image[pad_r-x:pad_r,:,:] = padded_image[x:2*x,:,:]\n",
        "    padded_image[:,0:x,:] = padded_image[:,pad_c-(2*x)-1:pad_c-x-1,:]\n",
        "    padded_image[:,pad_c-x:pad_c,:] = padded_image[:,x:2*x,:]\n",
        "    return padded_image\n",
        "  elif (pad==3):\n",
        "    # Reflection Padding\n",
        "    padded_image[0:x,:,:] = padded_image[2*x:x:-1,:,:]\n",
        "    padded_image[pad_r-1:pad_r-x-1:-1,:,:] = padded_image[pad_r-(2*x)-1:pad_r-x-1,:,:]\n",
        "    padded_image[:,0:x,:] = padded_image[:,2*x:x:-1,:]\n",
        "    padded_image[:,pad_c-1:pad_c-x-1:-1,:] = padded_image[:,pad_c-(2*x)-1:pad_c-x-1,:]\n",
        "    return padded_image\n",
        "  elif (pad==4):\n",
        "    # Replicate Padding\n",
        "    padded_image[0:x,:,:] = padded_image[x:x+1,:,:]\n",
        "    padded_image[pad_r-x:pad_r,:,:] = padded_image[pad_r-x-1:pad_r-x,:,:]\n",
        "    padded_image[:,0:x,:] = padded_image[:,x:x+1,:]\n",
        "    padded_image[:,pad_c-x-1:pad_c,:] = padded_image[:,pad_c-x-1:pad_c-x,:]\n",
        "    return padded_image"
      ],
      "metadata": {
        "id": "BySKp4LDCMOK"
      },
      "execution_count": 69,
      "outputs": []
    },
    {
      "cell_type": "code",
      "source": [
        "def conv2(f,w,x):     # f - padded image, w - kernel\n",
        "  if w.ndim == 1:\n",
        "    kernel = np.flip(w)   # flipping a 1D kernel\n",
        "    r = 1\n",
        "    c = kernel.shape[0]\n",
        "  else:\n",
        "    kernel = np.fliplr(np.flipud(w))    # flipping the 2D kernel for the convolution operation\n",
        "    r,c = kernel.shape\n",
        "  height,width = f.shape\n",
        "  op_image = np.zeros((f.shape[0],f.shape[1]),np.int32)  # defining an ndarray for the output convoluted image\n",
        "  \n",
        "  for i in range(height-r-1):\n",
        "    for j in range(width-c-1):\n",
        "      mat = f[i:i+r, j:j+c]\n",
        "      op_image[i][j] = np.sum(np.multiply(mat,kernel))   # convolution function for the padded image\n",
        "  original_op = op_image[x:(height-x),x:(width-x)]   # extracting the original image from the padded convoluted image\n",
        "  return original_op"
      ],
      "metadata": {
        "id": "16y6-JwIaM4y"
      },
      "execution_count": 70,
      "outputs": []
    },
    {
      "cell_type": "code",
      "source": [
        "x = int(input(\"Enter the length of the padding \"))    # inputting the length of padding \n",
        "print(\"Enter your choice of padding:\")    # choice for padding\n",
        "pad = int(input(\" 1. Zero Padding\\n 2. Wrap Around Padding\\n 3. Reflect across Padding \\n 4. Replicate Padding\\n\"))\n",
        "image = ['lena_grayscale.png','wolves.png']     # array for choosing the images\n",
        "for i in range(len(image)): \n",
        "  Image = np.array(cv2.imread(image[i]), dtype = 'int32')   # reading the image\n",
        "  padded_image = padding(Image,pad,x)       # padding the image using user-defined padding function\n",
        "  filename = 'Padded_'+image[i]\n",
        "  cv2.imwrite(filename,padded_image)\n",
        "  for j in range(1,10):     # loop for looping over all the types of filter\n",
        "    K,name = kernel(j)      # calling the kernel function\n",
        "    B,G,R = cv2.split(padded_image)   # splitting the image into its components and calling the convolution function \n",
        "    channel_B = conv2(B,K,x)          # for all the three channels\n",
        "    channel_G = conv2(G,K,x)\n",
        "    channel_R = conv2(R,K,x)\n",
        "    output_image = cv2.merge([channel_B,channel_G,channel_R])  # and merging them after convolution\n",
        "    f_name = name+image[i]\n",
        "    cv2.imwrite(f_name,output_image)"
      ],
      "metadata": {
        "colab": {
          "base_uri": "https://localhost:8080/"
        },
        "id": "jblbBNlY_88n",
        "outputId": "fe79b455-1004-4eb2-a18c-88795231eab6"
      },
      "execution_count": 71,
      "outputs": [
        {
          "name": "stdout",
          "output_type": "stream",
          "text": [
            "Enter the length of the padding 10\n",
            "Enter your choice of padding:\n",
            " 1. Zero Padding\n",
            " 2. Wrap Around Padding\n",
            " 3. Reflect across Padding \n",
            " 4. Replicate Padding\n",
            "1\n"
          ]
        }
      ]
    },
    {
      "cell_type": "markdown",
      "source": [
        "# **Problem 1)b)**"
      ],
      "metadata": {
        "id": "aK0UYwSiPKLa"
      }
    },
    {
      "cell_type": "code",
      "source": [
        "gray_image = np.zeros((1024,1024),np.int32)     # defining a zeros matrix with size 1024x1024\n",
        "gray_image[511,511] = 255         # making the middle value to be 255 (max)\n",
        "cv2.imwrite('Gray_Impulse_Image.png',gray_image)   \n",
        "subregion_gray = gray_image[505:518,505:518]  # printing few pixel values for comparison\n",
        "print ('Subregion of original gray image: ')\n",
        "print(subregion_gray) \n",
        "\n",
        "K,name  = kernel(1)\n",
        "print(K)\n",
        " \n",
        "conv = conv2(gray_image,K,0)        # applying the convolution function from before\n",
        "cv2.imwrite('Convoluted_Impulse_Image.png',conv)\n",
        "subregion_conv = conv[505:518,505:518]\n",
        "print ('Subregion of convoluted gray image: ')\n",
        "print(subregion_conv)"
      ],
      "metadata": {
        "colab": {
          "base_uri": "https://localhost:8080/"
        },
        "id": "IPlZqYjXAovc",
        "outputId": "3a343ef9-290f-45cc-8684-9b75f59eae4a"
      },
      "execution_count": 72,
      "outputs": [
        {
          "output_type": "stream",
          "name": "stdout",
          "text": [
            "Subregion of original gray image: \n",
            "[[  0   0   0   0   0   0   0   0   0   0   0   0   0]\n",
            " [  0   0   0   0   0   0   0   0   0   0   0   0   0]\n",
            " [  0   0   0   0   0   0   0   0   0   0   0   0   0]\n",
            " [  0   0   0   0   0   0   0   0   0   0   0   0   0]\n",
            " [  0   0   0   0   0   0   0   0   0   0   0   0   0]\n",
            " [  0   0   0   0   0   0   0   0   0   0   0   0   0]\n",
            " [  0   0   0   0   0   0 255   0   0   0   0   0   0]\n",
            " [  0   0   0   0   0   0   0   0   0   0   0   0   0]\n",
            " [  0   0   0   0   0   0   0   0   0   0   0   0   0]\n",
            " [  0   0   0   0   0   0   0   0   0   0   0   0   0]\n",
            " [  0   0   0   0   0   0   0   0   0   0   0   0   0]\n",
            " [  0   0   0   0   0   0   0   0   0   0   0   0   0]\n",
            " [  0   0   0   0   0   0   0   0   0   0   0   0   0]]\n",
            "[[0.11111111 0.11111111 0.11111111]\n",
            " [0.11111111 0.11111111 0.11111111]\n",
            " [0.11111111 0.11111111 0.11111111]]\n",
            "Subregion of convoluted gray image: \n",
            "[[ 0  0  0  0  0  0  0  0  0  0  0  0  0]\n",
            " [ 0  0  0  0  0  0  0  0  0  0  0  0  0]\n",
            " [ 0  0  0  0  0  0  0  0  0  0  0  0  0]\n",
            " [ 0  0  0  0  0  0  0  0  0  0  0  0  0]\n",
            " [ 0  0  0  0 28 28 28  0  0  0  0  0  0]\n",
            " [ 0  0  0  0 28 28 28  0  0  0  0  0  0]\n",
            " [ 0  0  0  0 28 28 28  0  0  0  0  0  0]\n",
            " [ 0  0  0  0  0  0  0  0  0  0  0  0  0]\n",
            " [ 0  0  0  0  0  0  0  0  0  0  0  0  0]\n",
            " [ 0  0  0  0  0  0  0  0  0  0  0  0  0]\n",
            " [ 0  0  0  0  0  0  0  0  0  0  0  0  0]\n",
            " [ 0  0  0  0  0  0  0  0  0  0  0  0  0]\n",
            " [ 0  0  0  0  0  0  0  0  0  0  0  0  0]]\n"
          ]
        }
      ]
    },
    {
      "cell_type": "code",
      "source": [],
      "metadata": {
        "id": "MTiiCk0_JVuB"
      },
      "execution_count": 72,
      "outputs": []
    }
  ]
}